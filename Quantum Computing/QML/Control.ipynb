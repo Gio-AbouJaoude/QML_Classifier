{
 "cells": [
  {
   "cell_type": "code",
   "execution_count": null,
   "metadata": {},
   "outputs": [],
   "source": [
    "#from palmerpenguins import load_penguins\n",
    "import numpy as np\n",
    "from pandas import DataFrame\n",
    "from sklearn.datasets import make_blobs\n",
    "from sklearn.metrics import confusion_matrix\n",
    "from my_model import quantum_model as q_model"
   ]
  },
  {
   "cell_type": "code",
   "execution_count": null,
   "metadata": {},
   "outputs": [],
   "source": [
    "from sklearn.datasets import load_wine\n",
    "\n",
    "wine = load_wine()\n",
    "\n",
    "X, Y = wine.data, wine.target"
   ]
  },
  {
   "cell_type": "code",
   "execution_count": null,
   "metadata": {},
   "outputs": [],
   "source": [
    "model = q_model(n_circuits = 3, rng_seed = 42)"
   ]
  },
  {
   "cell_type": "code",
   "execution_count": null,
   "metadata": {},
   "outputs": [],
   "source": [
    "print(model)"
   ]
  },
  {
   "cell_type": "code",
   "execution_count": null,
   "metadata": {},
   "outputs": [],
   "source": [
    "# penguins = load_penguins().dropna()\n",
    "# penguins = penguins.drop(columns = ['year'])\n",
    "# penguins, Y = model.target_data(penguins, 'species')\n",
    "# X = model.scale_data(penguins, cat_col = ['island', 'sex'])\n",
    "# data_tuple = model.scale_and_split(X, Y, test_size = 0.15, random_state = 42)"
   ]
  },
  {
   "cell_type": "code",
   "execution_count": null,
   "metadata": {},
   "outputs": [],
   "source": [
    "#X, Y = load_iris().data, load_iris().target\n",
    "#X, Y = make_moons(n_samples = 120, noise = 0.05, random_state = 42)\n",
    "#X, Y = make_circles(n_samples = 500, noise = 0.05, random_state = None)\n",
    "#X, Y = make_blobs(n_samples = 200, centers = 3, cluster_std = 0.15, n_features = 2, random_state = 42)\n",
    "\n",
    "X, Y = np.array(X), np.array(Y)\n",
    "#np.random.shuffle(np.transpose(X))\n",
    "data_tuple = model.scale_and_split(X, Y, test_size = 0.15, random_state = 40)"
   ]
  },
  {
   "cell_type": "code",
   "execution_count": null,
   "metadata": {},
   "outputs": [],
   "source": [
    "#model.plotly_scatter(X[:, 0], X[:, 1], Y, title = \"Generated Experiment Data\")"
   ]
  },
  {
   "cell_type": "code",
   "execution_count": null,
   "metadata": {},
   "outputs": [],
   "source": [
    "#model.plotly_scatter(X[:, 0], X[:, 1], Y, title = \"Scaled Experiment Data\").data[0]['marker']['color']"
   ]
  },
  {
   "cell_type": "code",
   "execution_count": null,
   "metadata": {},
   "outputs": [],
   "source": [
    "model.fit(data_tuple, alpha = 0.1, n_epochs = 3, display = True)\n",
    "#model.quick_fit(data_tuple, alpha = 0.1, n_epochs = 5, display = True)"
   ]
  },
  {
   "cell_type": "code",
   "execution_count": null,
   "metadata": {},
   "outputs": [],
   "source": [
    "model.print_plot_keys()"
   ]
  },
  {
   "cell_type": "code",
   "execution_count": null,
   "metadata": {},
   "outputs": [],
   "source": [
    "#model.plot_dict['Metrics']['Circuits']['C_1']\n",
    "model.plot_dict['Weights']['C_0']"
   ]
  },
  {
   "cell_type": "code",
   "execution_count": null,
   "metadata": {},
   "outputs": [],
   "source": [
    "model.save_recordings(\"weight_42-split_40-epoch_3\")"
   ]
  },
  {
   "cell_type": "code",
   "execution_count": null,
   "metadata": {},
   "outputs": [],
   "source": [
    "#from sklearn.metrics import precision_score\n",
    "\n",
    "#X_train, X_test, Y_train, Y_test = data_tuple\n",
    "#Y_estimate = model.predict_all(X_test)\n",
    "#precision_score(y_true, y_pred, *, labels=None, pos_label=1, average='binary', sample_weight=None, zero_division='warn')"
   ]
  },
  {
   "cell_type": "code",
   "execution_count": null,
   "metadata": {},
   "outputs": [],
   "source": [
    "#print(Y_estimate)\n",
    "#print(Y_test)\n",
    "\n",
    "#https://stackoverflow.com/questions/73564461/recall-and-precision-metrics-for-multi-class-classification-in-tensorflow-keras"
   ]
  },
  {
   "cell_type": "code",
   "execution_count": null,
   "metadata": {},
   "outputs": [],
   "source": [
    "# from my_metrics import metrics_test\n",
    "# from sklearn.metrics import classification_report\n",
    "\n",
    "# X_train, X_test, Y_train, Y_test = data_tuple\n",
    "# Y_estimate = model.predict_all(X_test)\n",
    "# labels = [i for i in range(model.n_circuits)]\n",
    "# metric_dic = classification_report(Y_test, Y_estimate, labels=labels, output_dict=True, zero_division=0)\n",
    "# #metric_dic"
   ]
  },
  {
   "cell_type": "code",
   "execution_count": null,
   "metadata": {},
   "outputs": [],
   "source": [
    "# metrics_test(model.weights, X_test, Y_test, model.n_circuits, method = 'weighted')"
   ]
  },
  {
   "cell_type": "code",
   "execution_count": null,
   "metadata": {},
   "outputs": [],
   "source": [
    "# unpack_metrics_report(metrics_report(model.weights, X_test, Y_test, model.n_circuits), model.n_circuits)"
   ]
  },
  {
   "cell_type": "code",
   "execution_count": null,
   "metadata": {},
   "outputs": [],
   "source": [
    "#metrics_test(model.weights, X_test, Y_test, model.n_circuits)"
   ]
  },
  {
   "cell_type": "code",
   "execution_count": null,
   "metadata": {},
   "outputs": [],
   "source": [
    "#get_metric_record(metrics_test(model.weights, X_test, Y_test, model.n_circuits))"
   ]
  }
 ],
 "metadata": {
  "kernelspec": {
   "display_name": "Python 3.9.7 64-bit",
   "language": "python",
   "name": "python3"
  },
  "language_info": {
   "codemirror_mode": {
    "name": "ipython",
    "version": 3
   },
   "file_extension": ".py",
   "mimetype": "text/x-python",
   "name": "python",
   "nbconvert_exporter": "python",
   "pygments_lexer": "ipython3",
   "version": "3.9.7"
  },
  "orig_nbformat": 4,
  "vscode": {
   "interpreter": {
    "hash": "eb6f5940a46bd00438eae5c24488e2af2ab436c7425df8fd8b6c9492d4c7c6bd"
   }
  }
 },
 "nbformat": 4,
 "nbformat_minor": 2
}
