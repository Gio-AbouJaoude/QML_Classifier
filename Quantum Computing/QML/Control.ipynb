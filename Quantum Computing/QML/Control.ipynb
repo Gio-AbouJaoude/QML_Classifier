{
 "cells": [
  {
   "cell_type": "code",
   "execution_count": 1,
   "metadata": {},
   "outputs": [],
   "source": [
    "from palmerpenguins import load_penguins\n",
    "from my_model import quantum_model as q_model"
   ]
  },
  {
   "cell_type": "code",
   "execution_count": 2,
   "metadata": {},
   "outputs": [],
   "source": [
    "model = q_model(n_circuits = 3, rng_seed = 42)"
   ]
  },
  {
   "cell_type": "code",
   "execution_count": 3,
   "metadata": {},
   "outputs": [
    {
     "name": "stdout",
     "output_type": "stream",
     "text": [
      "Beta-Penguin Mach 1\n"
     ]
    }
   ],
   "source": [
    "print(model)"
   ]
  },
  {
   "cell_type": "code",
   "execution_count": 4,
   "metadata": {},
   "outputs": [],
   "source": [
    "penguins = load_penguins().dropna()\n",
    "penguins = penguins.drop(columns = ['year'])\n",
    "penguins, Y = model.target_data(penguins, 'species')\n",
    "X = model.scale_data(penguins, cat_col = ['island', 'sex'])\n",
    "data_tuple = model.scale_and_split(X, Y, test_size = 0.15, random_state = 42)"
   ]
  },
  {
   "cell_type": "code",
   "execution_count": null,
   "metadata": {},
   "outputs": [],
   "source": [
    "#X, Y = load_iris().data, load_iris().target\n",
    "#X, Y = make_moons(n_samples = 120, noise = 0.05, random_state = 42)\n",
    "#X, Y = make_circles(n_samples = 500, noise = 0.05, random_state = None)\n",
    "#X, Y = make_blobs(n_samples = 100, centers = 3, cluster_std = 0.15, n_features = 2, random_state = 22)\n",
    "\n",
    "#X, Y = np.array(X), np.array(Y)\n",
    "#data_tuple = model.scale_and_split(X, Y, test_size = 0.15, random_state = 42)"
   ]
  },
  {
   "cell_type": "code",
   "execution_count": null,
   "metadata": {},
   "outputs": [],
   "source": [
    "#model.plotly_scatter(X[:, 0], X[:, 1], Y, title = \"Generated Experiment Data\")"
   ]
  },
  {
   "cell_type": "code",
   "execution_count": null,
   "metadata": {},
   "outputs": [],
   "source": [
    "#model.plotly_scatter(X[:, 0], X[:, 1], Y, title = \"Scaled Experiment Data\").data[0]['marker']['color']"
   ]
  },
  {
   "cell_type": "code",
   "execution_count": 5,
   "metadata": {},
   "outputs": [
    {
     "name": "stdout",
     "output_type": "stream",
     "text": [
      "**************************************************************************\n",
      "                               At epoch : 0                        \n",
      "--------------------------------------------------------------------------\n",
      "Accuracy: 14.0%  |  Precision: 20.95%  |  Recall: 14.0%  |  F1: 16.45%\n",
      "Confusion Matrix: \n",
      "         pred: 0  pred: 1  pred: 2\n",
      "true: 0        6       11        6\n",
      "true: 1        0        0       14\n",
      "true: 2        8        4        1\n",
      "**************************************************************************\n"
     ]
    },
    {
     "ename": "KeyboardInterrupt",
     "evalue": "",
     "output_type": "error",
     "traceback": [
      "\u001b[1;31m---------------------------------------------------------------------------\u001b[0m",
      "\u001b[1;31mKeyboardInterrupt\u001b[0m                         Traceback (most recent call last)",
      "\u001b[1;32mc:\\Users\\gga22\\OneDrive\\Desktop\\QML_Classifier\\Quantum Computing\\QML\\Control.ipynb Cell 8\u001b[0m in \u001b[0;36m1\n\u001b[1;32m----> <a href='vscode-notebook-cell:/c%3A/Users/gga22/OneDrive/Desktop/QML_Classifier/Quantum%20Computing/QML/Control.ipynb#X24sZmlsZQ%3D%3D?line=0'>1</a>\u001b[0m model\u001b[39m.\u001b[39;49mfit(data_tuple, alpha \u001b[39m=\u001b[39;49m \u001b[39m0.1\u001b[39;49m, n_epochs \u001b[39m=\u001b[39;49m \u001b[39m1\u001b[39;49m, display \u001b[39m=\u001b[39;49m \u001b[39mTrue\u001b[39;49;00m)\n",
      "File \u001b[1;32mc:\\Users\\gga22\\OneDrive\\Desktop\\QML_Classifier\\Quantum Computing\\QML\\my_model.py:92\u001b[0m, in \u001b[0;36mfit\u001b[1;34m(self, data_tuple, alpha, n_epochs, display)\u001b[0m\n\u001b[0;32m     89\u001b[0m \u001b[39mdef\u001b[39;00m \u001b[39mquick_fit\u001b[39m(\u001b[39mself\u001b[39m, data_tuple, alpha \u001b[39m=\u001b[39m \u001b[39m0.1\u001b[39m, n_epochs \u001b[39m=\u001b[39m \u001b[39m10\u001b[39m, display \u001b[39m=\u001b[39m \u001b[39mFalse\u001b[39;00m):\n\u001b[0;32m     90\u001b[0m   \u001b[39mself\u001b[39m\u001b[39m.\u001b[39mweights \u001b[39m=\u001b[39m quick_train_model(data_tuple, \u001b[39mself\u001b[39m\u001b[39m.\u001b[39mn_circuits, \u001b[39mself\u001b[39m\u001b[39m.\u001b[39mweights, alpha \u001b[39m=\u001b[39m alpha, n_epochs \u001b[39m=\u001b[39m n_epochs, display \u001b[39m=\u001b[39m display)\n\u001b[1;32m---> 92\u001b[0m \u001b[39mdef\u001b[39;00m \u001b[39mfit\u001b[39m(\u001b[39mself\u001b[39m, data_tuple, alpha \u001b[39m=\u001b[39m \u001b[39m0.1\u001b[39m, n_epochs \u001b[39m=\u001b[39m \u001b[39m10\u001b[39m, display \u001b[39m=\u001b[39m \u001b[39mTrue\u001b[39;00m):\n\u001b[0;32m     93\u001b[0m   \u001b[39mself\u001b[39m\u001b[39m.\u001b[39mweights, df_tuple \u001b[39m=\u001b[39m train_model(data_tuple, \u001b[39mself\u001b[39m\u001b[39m.\u001b[39mn_circuits, \u001b[39mself\u001b[39m\u001b[39m.\u001b[39mweights, alpha \u001b[39m=\u001b[39m alpha, n_epochs \u001b[39m=\u001b[39m n_epochs, display \u001b[39m=\u001b[39m display)\n\u001b[0;32m     94\u001b[0m   train_plots, train_plot_list \u001b[39m=\u001b[39m make_train_plots(df_tuple, \u001b[39mself\u001b[39m\u001b[39m.\u001b[39mn_circuits)\n",
      "File \u001b[1;32mc:\\Users\\gga22\\OneDrive\\Desktop\\QML_Classifier\\Quantum Computing\\QML\\my_training.py:106\u001b[0m, in \u001b[0;36mtrain_model\u001b[1;34m(data_tuple, n_circuits, weights, alpha, n_epochs, display)\u001b[0m\n\u001b[0;32m    104\u001b[0m weights, beta_value \u001b[39m=\u001b[39m optimize_model(X_train[i], Y_train[i], weights, n_circuits, alpha \u001b[39m=\u001b[39m alpha)\n\u001b[0;32m    105\u001b[0m expectations \u001b[39m=\u001b[39m calc_expectations(X_train[i], weights, n_circuits \u001b[39m=\u001b[39m n_circuits)\n\u001b[1;32m--> 106\u001b[0m metrics \u001b[39m=\u001b[39m metrics_test(weights, X_test, Y_test, n_circuits)\n\u001b[0;32m    108\u001b[0m beta_data[row_num] \u001b[39m=\u001b[39m beta_value\n\u001b[0;32m    109\u001b[0m expect_data[row_num] \u001b[39m=\u001b[39m expectations\n",
      "File \u001b[1;32mc:\\Users\\gga22\\OneDrive\\Desktop\\QML_Classifier\\Quantum Computing\\QML\\my_metrics.py:10\u001b[0m, in \u001b[0;36mmetrics_test\u001b[1;34m(weights, X_test, Y_test, n_circuits, method)\u001b[0m\n\u001b[0;32m      8\u001b[0m \u001b[39mdef\u001b[39;00m \u001b[39mmetrics_test\u001b[39m(weights, X_test, Y_test, n_circuits, method \u001b[39m=\u001b[39m \u001b[39m'\u001b[39m\u001b[39mweighted\u001b[39m\u001b[39m'\u001b[39m):\n\u001b[1;32m---> 10\u001b[0m   Y_estimate \u001b[39m=\u001b[39m predict_all(X_test, weights, n_circuits) \u001b[39m# Estimate dependent variable for every row in the test set\u001b[39;00m\n\u001b[0;32m     12\u001b[0m   \u001b[39m# The estimated variable and the actual variable are used to calculate/generate metrics for the classifier\u001b[39;00m\n\u001b[0;32m     14\u001b[0m   metrics \u001b[39m=\u001b[39m {}\n",
      "File \u001b[1;32mc:\\Users\\gga22\\OneDrive\\Desktop\\QML_Classifier\\Quantum Computing\\QML\\my_qml.py:117\u001b[0m, in \u001b[0;36mpredict_all\u001b[1;34m(all_features, weights, n_circuits)\u001b[0m\n\u001b[0;32m    115\u001b[0m \u001b[39mdef\u001b[39;00m \u001b[39mpredict_all\u001b[39m(all_features, weights, n_circuits):\n\u001b[1;32m--> 117\u001b[0m   all_expectations \u001b[39m=\u001b[39m calc_expectations_all(all_features, weights, n_circuits)\n\u001b[0;32m    118\u001b[0m   classifications \u001b[39m=\u001b[39m classify_expectations_all(all_expectations)\n\u001b[0;32m    120\u001b[0m   \u001b[39mreturn\u001b[39;00m classifications\n",
      "File \u001b[1;32mc:\\Users\\gga22\\OneDrive\\Desktop\\QML_Classifier\\Quantum Computing\\QML\\my_qml.py:84\u001b[0m, in \u001b[0;36mcalc_expectations_all\u001b[1;34m(all_features, weights, n_circuits)\u001b[0m\n\u001b[0;32m     81\u001b[0m all_expectations \u001b[39m=\u001b[39m [[\u001b[39m0\u001b[39m]\u001b[39m*\u001b[39mn_circuits]\u001b[39m*\u001b[39m\u001b[39mlen\u001b[39m(all_features)\n\u001b[0;32m     83\u001b[0m \u001b[39mfor\u001b[39;00m i, feature \u001b[39min\u001b[39;00m \u001b[39menumerate\u001b[39m(all_features):\n\u001b[1;32m---> 84\u001b[0m   all_expectations[i] \u001b[39m=\u001b[39m calc_expectations(feature, weights, n_circuits)\n\u001b[0;32m     86\u001b[0m \u001b[39mreturn\u001b[39;00m all_expectations\n",
      "File \u001b[1;32mc:\\Users\\gga22\\OneDrive\\Desktop\\QML_Classifier\\Quantum Computing\\QML\\my_qml.py:76\u001b[0m, in \u001b[0;36mcalc_expectations\u001b[1;34m(features, weights, n_circuits)\u001b[0m\n\u001b[0;32m     73\u001b[0m expectations \u001b[39m=\u001b[39m [\u001b[39m0\u001b[39m]\u001b[39m*\u001b[39mn_circuits \u001b[39m# Initialize zeros for classifier\u001b[39;00m\n\u001b[0;32m     75\u001b[0m \u001b[39mfor\u001b[39;00m i \u001b[39min\u001b[39;00m \u001b[39mrange\u001b[39m(n_circuits):\n\u001b[1;32m---> 76\u001b[0m   expectations[i] \u001b[39m=\u001b[39m (circuit(features, weights[i]) \u001b[39m+\u001b[39m\u001b[39m1\u001b[39m)\u001b[39m/\u001b[39m\u001b[39m2\u001b[39m \u001b[39m# Get the expectation value from each circuit, one for each target\u001b[39;00m\n\u001b[0;32m     78\u001b[0m \u001b[39mreturn\u001b[39;00m expectations\n",
      "File \u001b[1;32mc:\\Users\\gga22\\AppData\\Local\\Programs\\Python\\Python39\\lib\\site-packages\\pennylane\\qnode.py:661\u001b[0m, in \u001b[0;36mQNode.__call__\u001b[1;34m(self, *args, **kwargs)\u001b[0m\n\u001b[0;32m    657\u001b[0m             res \u001b[39m=\u001b[39m \u001b[39mtuple\u001b[39m(res)\n\u001b[0;32m    659\u001b[0m     \u001b[39mreturn\u001b[39;00m res\n\u001b[1;32m--> 661\u001b[0m res \u001b[39m=\u001b[39m qml\u001b[39m.\u001b[39mexecute(\n\u001b[0;32m    662\u001b[0m     [\u001b[39mself\u001b[39m\u001b[39m.\u001b[39mtape],\n\u001b[0;32m    663\u001b[0m     device\u001b[39m=\u001b[39m\u001b[39mself\u001b[39m\u001b[39m.\u001b[39mdevice,\n\u001b[0;32m    664\u001b[0m     gradient_fn\u001b[39m=\u001b[39m\u001b[39mself\u001b[39m\u001b[39m.\u001b[39mgradient_fn,\n\u001b[0;32m    665\u001b[0m     interface\u001b[39m=\u001b[39m\u001b[39mself\u001b[39m\u001b[39m.\u001b[39minterface,\n\u001b[0;32m    666\u001b[0m     gradient_kwargs\u001b[39m=\u001b[39m\u001b[39mself\u001b[39m\u001b[39m.\u001b[39mgradient_kwargs,\n\u001b[0;32m    667\u001b[0m     override_shots\u001b[39m=\u001b[39moverride_shots,\n\u001b[0;32m    668\u001b[0m     \u001b[39m*\u001b[39m\u001b[39m*\u001b[39m\u001b[39mself\u001b[39m\u001b[39m.\u001b[39mexecute_kwargs,\n\u001b[0;32m    669\u001b[0m )\n\u001b[0;32m    671\u001b[0m \u001b[39mif\u001b[39;00m autograd\u001b[39m.\u001b[39misinstance(res, (\u001b[39mtuple\u001b[39m, \u001b[39mlist\u001b[39m)) \u001b[39mand\u001b[39;00m \u001b[39mlen\u001b[39m(res) \u001b[39m==\u001b[39m \u001b[39m1\u001b[39m:\n\u001b[0;32m    672\u001b[0m     \u001b[39m# If a device batch transform was applied, we need to 'unpack'\u001b[39;00m\n\u001b[0;32m    673\u001b[0m     \u001b[39m# the returned tuple/list to a float.\u001b[39;00m\n\u001b[1;32m   (...)\u001b[0m\n\u001b[0;32m    680\u001b[0m     \u001b[39m# TODO: find a more explicit way of determining that a batch transform\u001b[39;00m\n\u001b[0;32m    681\u001b[0m     \u001b[39m# was applied.\u001b[39;00m\n\u001b[0;32m    683\u001b[0m     res \u001b[39m=\u001b[39m res[\u001b[39m0\u001b[39m]\n",
      "File \u001b[1;32mc:\\Users\\gga22\\AppData\\Local\\Programs\\Python\\Python39\\lib\\site-packages\\pennylane\\interfaces\\execution.py:443\u001b[0m, in \u001b[0;36mexecute\u001b[1;34m(tapes, device, gradient_fn, interface, mode, gradient_kwargs, cache, cachesize, max_diff, override_shots, expand_fn, max_expansion, device_batch_transform)\u001b[0m\n\u001b[0;32m    437\u001b[0m \u001b[39mexcept\u001b[39;00m \u001b[39mImportError\u001b[39;00m \u001b[39mas\u001b[39;00m e:\n\u001b[0;32m    438\u001b[0m     \u001b[39mraise\u001b[39;00m qml\u001b[39m.\u001b[39mQuantumFunctionError(\n\u001b[0;32m    439\u001b[0m         \u001b[39mf\u001b[39m\u001b[39m\"\u001b[39m\u001b[39m{\u001b[39;00mmapped_interface\u001b[39m}\u001b[39;00m\u001b[39m not found. Please install the latest \u001b[39m\u001b[39m\"\u001b[39m\n\u001b[0;32m    440\u001b[0m         \u001b[39mf\u001b[39m\u001b[39m\"\u001b[39m\u001b[39mversion of \u001b[39m\u001b[39m{\u001b[39;00mmapped_interface\u001b[39m}\u001b[39;00m\u001b[39m to enable the \u001b[39m\u001b[39m'\u001b[39m\u001b[39m{\u001b[39;00mmapped_interface\u001b[39m}\u001b[39;00m\u001b[39m'\u001b[39m\u001b[39m interface.\u001b[39m\u001b[39m\"\u001b[39m\n\u001b[0;32m    441\u001b[0m     ) \u001b[39mfrom\u001b[39;00m \u001b[39me\u001b[39;00m\n\u001b[1;32m--> 443\u001b[0m res \u001b[39m=\u001b[39m _execute(\n\u001b[0;32m    444\u001b[0m     tapes, device, execute_fn, gradient_fn, gradient_kwargs, _n\u001b[39m=\u001b[39;49m\u001b[39m1\u001b[39;49m, max_diff\u001b[39m=\u001b[39;49mmax_diff, mode\u001b[39m=\u001b[39;49m_mode\n\u001b[0;32m    445\u001b[0m )\n\u001b[0;32m    447\u001b[0m \u001b[39mreturn\u001b[39;00m batch_fn(res)\n",
      "File \u001b[1;32mc:\\Users\\gga22\\AppData\\Local\\Programs\\Python\\Python39\\lib\\site-packages\\pennylane\\interfaces\\autograd.py:66\u001b[0m, in \u001b[0;36mexecute\u001b[1;34m(tapes, device, execute_fn, gradient_fn, gradient_kwargs, _n, max_diff, mode)\u001b[0m\n\u001b[0;32m     60\u001b[0m \u001b[39m# pylint misidentifies autograd.builtins as a dict\u001b[39;00m\n\u001b[0;32m     61\u001b[0m \u001b[39m# pylint: disable=no-member\u001b[39;00m\n\u001b[0;32m     62\u001b[0m parameters \u001b[39m=\u001b[39m autograd\u001b[39m.\u001b[39mbuiltins\u001b[39m.\u001b[39mtuple(\n\u001b[0;32m     63\u001b[0m     [autograd\u001b[39m.\u001b[39mbuiltins\u001b[39m.\u001b[39mlist(t\u001b[39m.\u001b[39mget_parameters()) \u001b[39mfor\u001b[39;00m t \u001b[39min\u001b[39;00m tapes]\n\u001b[0;32m     64\u001b[0m )\n\u001b[1;32m---> 66\u001b[0m \u001b[39mreturn\u001b[39;00m _execute(\n\u001b[0;32m     67\u001b[0m     parameters,\n\u001b[0;32m     68\u001b[0m     tapes\u001b[39m=\u001b[39;49mtapes,\n\u001b[0;32m     69\u001b[0m     device\u001b[39m=\u001b[39;49mdevice,\n\u001b[0;32m     70\u001b[0m     execute_fn\u001b[39m=\u001b[39;49mexecute_fn,\n\u001b[0;32m     71\u001b[0m     gradient_fn\u001b[39m=\u001b[39;49mgradient_fn,\n\u001b[0;32m     72\u001b[0m     gradient_kwargs\u001b[39m=\u001b[39;49mgradient_kwargs,\n\u001b[0;32m     73\u001b[0m     _n\u001b[39m=\u001b[39;49m_n,\n\u001b[0;32m     74\u001b[0m     max_diff\u001b[39m=\u001b[39;49mmax_diff,\n\u001b[0;32m     75\u001b[0m )[\u001b[39m0\u001b[39m]\n",
      "File \u001b[1;32mc:\\Users\\gga22\\AppData\\Local\\Programs\\Python\\Python39\\lib\\site-packages\\autograd\\tracer.py:48\u001b[0m, in \u001b[0;36mprimitive.<locals>.f_wrapped\u001b[1;34m(*args, **kwargs)\u001b[0m\n\u001b[0;32m     46\u001b[0m     \u001b[39mreturn\u001b[39;00m new_box(ans, trace, node)\n\u001b[0;32m     47\u001b[0m \u001b[39melse\u001b[39;00m:\n\u001b[1;32m---> 48\u001b[0m     \u001b[39mreturn\u001b[39;00m f_raw(\u001b[39m*\u001b[39margs, \u001b[39m*\u001b[39m\u001b[39m*\u001b[39mkwargs)\n",
      "File \u001b[1;32mc:\\Users\\gga22\\AppData\\Local\\Programs\\Python\\Python39\\lib\\site-packages\\pennylane\\interfaces\\autograd.py:110\u001b[0m, in \u001b[0;36m_execute\u001b[1;34m(parameters, tapes, device, execute_fn, gradient_fn, gradient_kwargs, _n, max_diff)\u001b[0m\n\u001b[0;32m     89\u001b[0m \u001b[39m\"\"\"Autodifferentiable wrapper around ``Device.batch_execute``.\u001b[39;00m\n\u001b[0;32m     90\u001b[0m \n\u001b[0;32m     91\u001b[0m \u001b[39mThe signature of this function is designed to work around Autograd restrictions.\u001b[39;00m\n\u001b[1;32m   (...)\u001b[0m\n\u001b[0;32m    107\u001b[0m \u001b[39munderstand the consequences!\u001b[39;00m\n\u001b[0;32m    108\u001b[0m \u001b[39m\"\"\"\u001b[39;00m\n\u001b[0;32m    109\u001b[0m \u001b[39mwith\u001b[39;00m qml\u001b[39m.\u001b[39mtape\u001b[39m.\u001b[39mUnwrap(\u001b[39m*\u001b[39mtapes):\n\u001b[1;32m--> 110\u001b[0m     res, jacs \u001b[39m=\u001b[39m execute_fn(tapes, \u001b[39m*\u001b[39m\u001b[39m*\u001b[39mgradient_kwargs)\n\u001b[0;32m    112\u001b[0m \u001b[39mfor\u001b[39;00m i, r \u001b[39min\u001b[39;00m \u001b[39menumerate\u001b[39m(res):\n\u001b[0;32m    114\u001b[0m     \u001b[39mif\u001b[39;00m \u001b[39many\u001b[39m(\n\u001b[0;32m    115\u001b[0m         m\u001b[39m.\u001b[39mreturn_type \u001b[39min\u001b[39;00m (qml\u001b[39m.\u001b[39mmeasurements\u001b[39m.\u001b[39mCounts, qml\u001b[39m.\u001b[39mmeasurements\u001b[39m.\u001b[39mAllCounts)\n\u001b[0;32m    116\u001b[0m         \u001b[39mfor\u001b[39;00m m \u001b[39min\u001b[39;00m tapes[i]\u001b[39m.\u001b[39mmeasurements\n\u001b[0;32m    117\u001b[0m     ):\n",
      "File \u001b[1;32mc:\\Users\\gga22\\AppData\\Local\\Programs\\Python\\Python39\\lib\\site-packages\\pennylane\\interfaces\\execution.py:197\u001b[0m, in \u001b[0;36mcache_execute.<locals>.wrapper\u001b[1;34m(tapes, **kwargs)\u001b[0m\n\u001b[0;32m    193\u001b[0m         \u001b[39mreturn\u001b[39;00m (res, []) \u001b[39mif\u001b[39;00m return_tuple \u001b[39melse\u001b[39;00m res\n\u001b[0;32m    195\u001b[0m \u001b[39melse\u001b[39;00m:\n\u001b[0;32m    196\u001b[0m     \u001b[39m# execute all unique tapes that do not exist in the cache\u001b[39;00m\n\u001b[1;32m--> 197\u001b[0m     res \u001b[39m=\u001b[39m fn(execution_tapes\u001b[39m.\u001b[39mvalues(), \u001b[39m*\u001b[39m\u001b[39m*\u001b[39mkwargs)\n\u001b[0;32m    199\u001b[0m final_res \u001b[39m=\u001b[39m []\n\u001b[0;32m    201\u001b[0m \u001b[39mfor\u001b[39;00m i, tape \u001b[39min\u001b[39;00m \u001b[39menumerate\u001b[39m(tapes):\n",
      "File \u001b[1;32mc:\\Users\\gga22\\AppData\\Local\\Programs\\Python\\Python39\\lib\\site-packages\\pennylane\\interfaces\\execution.py:122\u001b[0m, in \u001b[0;36mcache_execute.<locals>.fn\u001b[1;34m(tapes, **kwargs)\u001b[0m\n\u001b[0;32m    120\u001b[0m \u001b[39mdef\u001b[39;00m \u001b[39mfn\u001b[39m(tapes, \u001b[39m*\u001b[39m\u001b[39m*\u001b[39mkwargs):  \u001b[39m# pylint: disable=function-redefined\u001b[39;00m\n\u001b[0;32m    121\u001b[0m     tapes \u001b[39m=\u001b[39m [expand_fn(tape) \u001b[39mfor\u001b[39;00m tape \u001b[39min\u001b[39;00m tapes]\n\u001b[1;32m--> 122\u001b[0m     \u001b[39mreturn\u001b[39;00m original_fn(tapes, \u001b[39m*\u001b[39m\u001b[39m*\u001b[39mkwargs)\n",
      "File \u001b[1;32mc:\\Users\\gga22\\AppData\\Local\\Programs\\Python\\Python39\\lib\\contextlib.py:79\u001b[0m, in \u001b[0;36mContextDecorator.__call__.<locals>.inner\u001b[1;34m(*args, **kwds)\u001b[0m\n\u001b[0;32m     76\u001b[0m \u001b[39m@wraps\u001b[39m(func)\n\u001b[0;32m     77\u001b[0m \u001b[39mdef\u001b[39;00m \u001b[39minner\u001b[39m(\u001b[39m*\u001b[39margs, \u001b[39m*\u001b[39m\u001b[39m*\u001b[39mkwds):\n\u001b[0;32m     78\u001b[0m     \u001b[39mwith\u001b[39;00m \u001b[39mself\u001b[39m\u001b[39m.\u001b[39m_recreate_cm():\n\u001b[1;32m---> 79\u001b[0m         \u001b[39mreturn\u001b[39;00m func(\u001b[39m*\u001b[39margs, \u001b[39m*\u001b[39m\u001b[39m*\u001b[39mkwds)\n",
      "File \u001b[1;32mc:\\Users\\gga22\\AppData\\Local\\Programs\\Python\\Python39\\lib\\site-packages\\pennylane_qiskit\\qiskit_device.py:448\u001b[0m, in \u001b[0;36mQiskitDevice.batch_execute\u001b[1;34m(self, circuits)\u001b[0m\n\u001b[0;32m    446\u001b[0m \u001b[39m# Send the batch of circuit objects using backend.run\u001b[39;00m\n\u001b[0;32m    447\u001b[0m \u001b[39mself\u001b[39m\u001b[39m.\u001b[39m_current_job \u001b[39m=\u001b[39m \u001b[39mself\u001b[39m\u001b[39m.\u001b[39mbackend\u001b[39m.\u001b[39mrun(compiled_circuits, shots\u001b[39m=\u001b[39m\u001b[39mself\u001b[39m\u001b[39m.\u001b[39mshots, \u001b[39m*\u001b[39m\u001b[39m*\u001b[39m\u001b[39mself\u001b[39m\u001b[39m.\u001b[39mrun_args)\n\u001b[1;32m--> 448\u001b[0m result \u001b[39m=\u001b[39m \u001b[39mself\u001b[39;49m\u001b[39m.\u001b[39;49m_current_job\u001b[39m.\u001b[39;49mresult()\n\u001b[0;32m    450\u001b[0m \u001b[39m# Compute statistics using the state and/or samples\u001b[39;00m\n\u001b[0;32m    451\u001b[0m results \u001b[39m=\u001b[39m []\n",
      "File \u001b[1;32mc:\\Users\\gga22\\AppData\\Local\\Programs\\Python\\Python39\\lib\\site-packages\\qiskit_aer\\jobs\\utils.py:41\u001b[0m, in \u001b[0;36mrequires_submit.<locals>._wrapper\u001b[1;34m(self, *args, **kwargs)\u001b[0m\n\u001b[0;32m     39\u001b[0m \u001b[39mif\u001b[39;00m \u001b[39mself\u001b[39m\u001b[39m.\u001b[39m_future \u001b[39mis\u001b[39;00m \u001b[39mNone\u001b[39;00m:\n\u001b[0;32m     40\u001b[0m     \u001b[39mraise\u001b[39;00m JobError(\u001b[39m\"\u001b[39m\u001b[39mJob not submitted yet!. You have to .submit() first!\u001b[39m\u001b[39m\"\u001b[39m)\n\u001b[1;32m---> 41\u001b[0m \u001b[39mreturn\u001b[39;00m func(\u001b[39mself\u001b[39m, \u001b[39m*\u001b[39margs, \u001b[39m*\u001b[39m\u001b[39m*\u001b[39mkwargs)\n",
      "File \u001b[1;32mc:\\Users\\gga22\\AppData\\Local\\Programs\\Python\\Python39\\lib\\site-packages\\qiskit_aer\\jobs\\aerjob.py:78\u001b[0m, in \u001b[0;36mAerJob.result\u001b[1;34m(self, timeout)\u001b[0m\n\u001b[0;32m     60\u001b[0m \u001b[39m@requires_submit\u001b[39m\n\u001b[0;32m     61\u001b[0m \u001b[39mdef\u001b[39;00m \u001b[39mresult\u001b[39m(\u001b[39mself\u001b[39m, timeout\u001b[39m=\u001b[39m\u001b[39mNone\u001b[39;00m):\n\u001b[0;32m     62\u001b[0m     \u001b[39m# pylint: disable=arguments-differ\u001b[39;00m\n\u001b[0;32m     63\u001b[0m     \u001b[39m\"\"\"Get job result. The behavior is the same as the underlying\u001b[39;00m\n\u001b[0;32m     64\u001b[0m \u001b[39m    concurrent Future objects,\u001b[39;00m\n\u001b[0;32m     65\u001b[0m \n\u001b[1;32m   (...)\u001b[0m\n\u001b[0;32m     76\u001b[0m \u001b[39m        concurrent.futures.CancelledError: if job cancelled before completed.\u001b[39;00m\n\u001b[0;32m     77\u001b[0m \u001b[39m    \"\"\"\u001b[39;00m\n\u001b[1;32m---> 78\u001b[0m     \u001b[39mreturn\u001b[39;00m \u001b[39mself\u001b[39;49m\u001b[39m.\u001b[39;49m_future\u001b[39m.\u001b[39;49mresult(timeout\u001b[39m=\u001b[39;49mtimeout)\n",
      "File \u001b[1;32mc:\\Users\\gga22\\AppData\\Local\\Programs\\Python\\Python39\\lib\\concurrent\\futures\\_base.py:440\u001b[0m, in \u001b[0;36mFuture.result\u001b[1;34m(self, timeout)\u001b[0m\n\u001b[0;32m    437\u001b[0m \u001b[39melif\u001b[39;00m \u001b[39mself\u001b[39m\u001b[39m.\u001b[39m_state \u001b[39m==\u001b[39m FINISHED:\n\u001b[0;32m    438\u001b[0m     \u001b[39mreturn\u001b[39;00m \u001b[39mself\u001b[39m\u001b[39m.\u001b[39m__get_result()\n\u001b[1;32m--> 440\u001b[0m \u001b[39mself\u001b[39;49m\u001b[39m.\u001b[39;49m_condition\u001b[39m.\u001b[39;49mwait(timeout)\n\u001b[0;32m    442\u001b[0m \u001b[39mif\u001b[39;00m \u001b[39mself\u001b[39m\u001b[39m.\u001b[39m_state \u001b[39min\u001b[39;00m [CANCELLED, CANCELLED_AND_NOTIFIED]:\n\u001b[0;32m    443\u001b[0m     \u001b[39mraise\u001b[39;00m CancelledError()\n",
      "File \u001b[1;32mc:\\Users\\gga22\\AppData\\Local\\Programs\\Python\\Python39\\lib\\threading.py:312\u001b[0m, in \u001b[0;36mCondition.wait\u001b[1;34m(self, timeout)\u001b[0m\n\u001b[0;32m    310\u001b[0m \u001b[39mtry\u001b[39;00m:    \u001b[39m# restore state no matter what (e.g., KeyboardInterrupt)\u001b[39;00m\n\u001b[0;32m    311\u001b[0m     \u001b[39mif\u001b[39;00m timeout \u001b[39mis\u001b[39;00m \u001b[39mNone\u001b[39;00m:\n\u001b[1;32m--> 312\u001b[0m         waiter\u001b[39m.\u001b[39;49macquire()\n\u001b[0;32m    313\u001b[0m         gotit \u001b[39m=\u001b[39m \u001b[39mTrue\u001b[39;00m\n\u001b[0;32m    314\u001b[0m     \u001b[39melse\u001b[39;00m:\n",
      "\u001b[1;31mKeyboardInterrupt\u001b[0m: "
     ]
    }
   ],
   "source": [
    "#model.fit(data_tuple, alpha = 0.1, n_epochs = 1, display = True)\n",
    "model.quick_fit(data_tuple, alpha = 0.1, n_epochs = 1, display = True)"
   ]
  },
  {
   "cell_type": "code",
   "execution_count": null,
   "metadata": {},
   "outputs": [],
   "source": [
    "model.save_recordings(\"weight_42-split_42-epoch_1\")"
   ]
  },
  {
   "cell_type": "code",
   "execution_count": null,
   "metadata": {},
   "outputs": [],
   "source": [
    "model.print_plot_keys()"
   ]
  },
  {
   "cell_type": "code",
   "execution_count": null,
   "metadata": {},
   "outputs": [],
   "source": [
    "model.plot_dict['Beta']['Mean']"
   ]
  }
 ],
 "metadata": {
  "kernelspec": {
   "display_name": "Python 3.9.7 64-bit",
   "language": "python",
   "name": "python3"
  },
  "language_info": {
   "codemirror_mode": {
    "name": "ipython",
    "version": 3
   },
   "file_extension": ".py",
   "mimetype": "text/x-python",
   "name": "python",
   "nbconvert_exporter": "python",
   "pygments_lexer": "ipython3",
   "version": "3.9.7"
  },
  "orig_nbformat": 4,
  "vscode": {
   "interpreter": {
    "hash": "eb6f5940a46bd00438eae5c24488e2af2ab436c7425df8fd8b6c9492d4c7c6bd"
   }
  }
 },
 "nbformat": 4,
 "nbformat_minor": 2
}
