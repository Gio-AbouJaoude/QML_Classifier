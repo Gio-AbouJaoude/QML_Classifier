{
 "cells": [
  {
   "cell_type": "code",
   "execution_count": 1,
   "metadata": {},
   "outputs": [],
   "source": [
    "from palmerpenguins import load_penguins\n",
    "from my_model import quantum_model as q_model"
   ]
  },
  {
   "cell_type": "code",
   "execution_count": 2,
   "metadata": {},
   "outputs": [],
   "source": [
    "model = q_model(n_circuits = 3, rng_seed = 42)"
   ]
  },
  {
   "cell_type": "code",
   "execution_count": 3,
   "metadata": {},
   "outputs": [
    {
     "name": "stdout",
     "output_type": "stream",
     "text": [
      "Beta-Penguin Mach 1\n"
     ]
    }
   ],
   "source": [
    "print(model)"
   ]
  },
  {
   "cell_type": "code",
   "execution_count": 4,
   "metadata": {},
   "outputs": [],
   "source": [
    "penguins = load_penguins().dropna()\n",
    "penguins = penguins.drop(columns = ['year'])\n",
    "penguins, Y = model.target_data(penguins, 'species')\n",
    "X = model.scale_data(penguins, cat_col = ['island', 'sex'])\n",
    "data_tuple = model.scale_and_split(X, Y, test_size = 0.15, random_state = 42)"
   ]
  },
  {
   "cell_type": "code",
   "execution_count": 5,
   "metadata": {},
   "outputs": [],
   "source": [
    "#X, Y = load_iris().data, load_iris().target\n",
    "#X, Y = make_moons(n_samples = 120, noise = 0.05, random_state = 42)\n",
    "#X, Y = make_circles(n_samples = 500, noise = 0.05, random_state = None)\n",
    "#X, Y = make_blobs(n_samples = 100, centers = 3, cluster_std = 0.15, n_features = 2, random_state = 22)\n",
    "\n",
    "#X, Y = np.array(X), np.array(Y)\n",
    "#data_tuple = model.scale_and_split(X, Y, test_size = 0.15, random_state = 42)"
   ]
  },
  {
   "cell_type": "code",
   "execution_count": 6,
   "metadata": {},
   "outputs": [],
   "source": [
    "#model.plotly_scatter(X[:, 0], X[:, 1], Y, title = \"Generated Experiment Data\")"
   ]
  },
  {
   "cell_type": "code",
   "execution_count": 7,
   "metadata": {},
   "outputs": [],
   "source": [
    "#model.plotly_scatter(X[:, 0], X[:, 1], Y, title = \"Scaled Experiment Data\").data[0]['marker']['color']"
   ]
  },
  {
   "cell_type": "code",
   "execution_count": 8,
   "metadata": {},
   "outputs": [
    {
     "name": "stdout",
     "output_type": "stream",
     "text": [
      "**************************************************************************\n",
      "                               At epoch : 0                        \n",
      "--------------------------------------------------------------------------\n",
      "Accuracy: 22.0%  |  Precision: 29.07%  |  Recall: 22.0%  |  F1: 24.53%\n",
      "Confusion Matrix: \n",
      "         pred: 0  pred: 1  pred: 2\n",
      "true: 0        8       12        3\n",
      "true: 1        0        1       13\n",
      "true: 2        7        4        2\n",
      "--------------------------------------------------------------------------\n",
      "                     Epoch time : 11.49 seconds          \n",
      "**************************************************************************\n",
      "                               At epoch : 1                        \n",
      "--------------------------------------------------------------------------\n",
      "Accuracy: 86.0%  |  Precision: 88.9%  |  Recall: 86.0%  |  F1: 85.55%\n",
      "Confusion Matrix: \n",
      "         pred: 0  pred: 1  pred: 2\n",
      "true: 0       16        4        3\n",
      "true: 1        0       14        0\n",
      "true: 2        0        0       13\n",
      "--------------------------------------------------------------------------\n",
      "                     Epoch time : 2105.14 seconds          \n",
      "**************************************************************************\n"
     ]
    }
   ],
   "source": [
    "#model.fit(data_tuple, alpha = 0.1, n_epochs = 1, display = True)\n",
    "model.quick_fit(data_tuple, alpha = 0.1, n_epochs = 1, display = True)"
   ]
  },
  {
   "cell_type": "code",
   "execution_count": 9,
   "metadata": {},
   "outputs": [
    {
     "name": "stdout",
     "output_type": "stream",
     "text": [
      "Warning: Recordings already exist!\n"
     ]
    }
   ],
   "source": [
    "model.save_recordings(\"weight_42-split_42-epoch_1\")"
   ]
  },
  {
   "cell_type": "code",
   "execution_count": 10,
   "metadata": {},
   "outputs": [
    {
     "name": "stdout",
     "output_type": "stream",
     "text": [
      "Model Plot Map:\n"
     ]
    }
   ],
   "source": [
    "model.print_plot_keys()"
   ]
  },
  {
   "cell_type": "code",
   "execution_count": 11,
   "metadata": {},
   "outputs": [],
   "source": [
    "#model.plot_dict['Beta']['Mean']"
   ]
  }
 ],
 "metadata": {
  "kernelspec": {
   "display_name": "Python 3.9.7 64-bit",
   "language": "python",
   "name": "python3"
  },
  "language_info": {
   "codemirror_mode": {
    "name": "ipython",
    "version": 3
   },
   "file_extension": ".py",
   "mimetype": "text/x-python",
   "name": "python",
   "nbconvert_exporter": "python",
   "pygments_lexer": "ipython3",
   "version": "3.9.7"
  },
  "orig_nbformat": 4,
  "vscode": {
   "interpreter": {
    "hash": "eb6f5940a46bd00438eae5c24488e2af2ab436c7425df8fd8b6c9492d4c7c6bd"
   }
  }
 },
 "nbformat": 4,
 "nbformat_minor": 2
}
