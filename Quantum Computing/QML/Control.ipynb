{
 "cells": [
  {
   "cell_type": "code",
   "execution_count": 1,
   "metadata": {},
   "outputs": [],
   "source": [
    "from palmerpenguins import load_penguins\n",
    "from my_model import quantum_model as q_model"
   ]
  },
  {
   "cell_type": "code",
   "execution_count": 29,
   "metadata": {},
   "outputs": [],
   "source": [
    "model = q_model(n_circuits = 3, rng_seed = 42)"
   ]
  },
  {
   "cell_type": "code",
   "execution_count": 30,
   "metadata": {},
   "outputs": [
    {
     "name": "stdout",
     "output_type": "stream",
     "text": [
      "Beta-Penguin Mach 1\n"
     ]
    }
   ],
   "source": [
    "print(model)"
   ]
  },
  {
   "cell_type": "code",
   "execution_count": 3,
   "metadata": {},
   "outputs": [],
   "source": [
    "penguins = load_penguins().dropna()\n",
    "penguins = penguins.drop(columns = ['year'])\n",
    "penguins, Y = model.target_data(penguins, 'species')\n",
    "X = model.scale_data(penguins, cat_col = ['island', 'sex'])\n",
    "data_tuple = model.scale_and_split(X, Y, test_size = 0.15, random_state = 42)"
   ]
  },
  {
   "cell_type": "code",
   "execution_count": null,
   "metadata": {},
   "outputs": [],
   "source": [
    "#X, Y = load_iris().data, load_iris().target\n",
    "#X, Y = make_moons(n_samples = 120, noise = 0.05, random_state = 42)\n",
    "#X, Y = make_circles(n_samples = 500, noise = 0.05, random_state = None)\n",
    "#X, Y = make_blobs(n_samples = 100, centers = 3, cluster_std = 0.15, n_features = 2, random_state = 22)\n",
    "\n",
    "#X, Y = np.array(X), np.array(Y)\n",
    "#data_tuple = model.scale_and_split(X, Y, test_size = 0.15, random_state = 42)"
   ]
  },
  {
   "cell_type": "code",
   "execution_count": null,
   "metadata": {},
   "outputs": [],
   "source": [
    "#model.plotly_scatter(X[:, 0], X[:, 1], Y, title = \"Generated Experiment Data\")"
   ]
  },
  {
   "cell_type": "code",
   "execution_count": null,
   "metadata": {},
   "outputs": [],
   "source": [
    "#model.plotly_scatter(X[:, 0], X[:, 1], Y, title = \"Scaled Experiment Data\").data[0]['marker']['color']"
   ]
  },
  {
   "cell_type": "code",
   "execution_count": null,
   "metadata": {},
   "outputs": [],
   "source": [
    "model.fit(data_tuple, alpha = 0.1, n_epochs = 1, display = True)"
   ]
  },
  {
   "cell_type": "code",
   "execution_count": null,
   "metadata": {},
   "outputs": [],
   "source": [
    "model.save_recordings(\"weight_42-split_42-epoch_1\")"
   ]
  },
  {
   "cell_type": "code",
   "execution_count": 8,
   "metadata": {},
   "outputs": [
    {
     "name": "stdout",
     "output_type": "stream",
     "text": [
      "Model Plot Map:\n"
     ]
    }
   ],
   "source": [
    "model.print_plot_keys()"
   ]
  },
  {
   "cell_type": "code",
   "execution_count": null,
   "metadata": {},
   "outputs": [],
   "source": [
    "model.plot_dict['Beta']['Mean']"
   ]
  }
 ],
 "metadata": {
  "kernelspec": {
   "display_name": "Python 3.9.7 64-bit",
   "language": "python",
   "name": "python3"
  },
  "language_info": {
   "codemirror_mode": {
    "name": "ipython",
    "version": 3
   },
   "file_extension": ".py",
   "mimetype": "text/x-python",
   "name": "python",
   "nbconvert_exporter": "python",
   "pygments_lexer": "ipython3",
   "version": "3.9.7"
  },
  "orig_nbformat": 4,
  "vscode": {
   "interpreter": {
    "hash": "eb6f5940a46bd00438eae5c24488e2af2ab436c7425df8fd8b6c9492d4c7c6bd"
   }
  }
 },
 "nbformat": 4,
 "nbformat_minor": 2
}
