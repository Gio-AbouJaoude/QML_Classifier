{
 "cells": [
  {
   "cell_type": "code",
   "execution_count": 1,
   "metadata": {},
   "outputs": [],
   "source": [
    "import numpy as np\n",
    "import pandas as pd\n",
    "from palmerpenguins import load_penguins\n",
    "from my_model import quantum_model as q_model"
   ]
  },
  {
   "cell_type": "code",
   "execution_count": 2,
   "metadata": {},
   "outputs": [],
   "source": [
    "weight_seed = 41\n",
    "model = q_model(n_circuits = 3, rng_seed = weight_seed)"
   ]
  },
  {
   "cell_type": "code",
   "execution_count": 3,
   "metadata": {},
   "outputs": [
    {
     "name": "stdout",
     "output_type": "stream",
     "text": [
      "Penguin V_4\n"
     ]
    }
   ],
   "source": [
    "print(model)"
   ]
  },
  {
   "cell_type": "code",
   "execution_count": 4,
   "metadata": {},
   "outputs": [],
   "source": [
    "def my_penguins(model, test_size = 15, split_seed = 42):\n",
    "    penguins = load_penguins().dropna()\n",
    "    Y = penguins['species'].astype('category').cat.codes.to_numpy()\n",
    "    penguins['sex'] = penguins['sex'].astype('category').cat.codes\n",
    "    penguins = pd.concat([penguins, pd.get_dummies(penguins['island'])], axis = 1)\n",
    "    penguins = penguins.drop(['species', 'year', 'island'], axis = 1)\n",
    "    X = model.scale_data(penguins)\n",
    "    #X[:, 4:] = X[:, 4:] *0.5\n",
    "    return model.split_data(X, Y, test_size = test_size/100, random_state = split_seed)\n",
    "\n",
    "test_size = 15\n",
    "split_seed = 41\n",
    "data_tuple = my_penguins(model, test_size, split_seed)"
   ]
  },
  {
   "cell_type": "code",
   "execution_count": 5,
   "metadata": {},
   "outputs": [
    {
     "name": "stdout",
     "output_type": "stream",
     "text": [
      "**************************************************************************\n",
      "                               At epoch : 0                        \n",
      "--------------------------------------------------------------------------\n",
      "Accuracy: 24.0%  |  Precision: 25.28%  |  Recall: 24.0%  |  F1: 24.47%\n",
      "Confusion Matrix: \n",
      "         pred: 0  pred: 1  pred: 2\n",
      "true: 0        6        5        9\n",
      "true: 1        5        1        3\n",
      "true: 2       10        6        5\n",
      "--------------------------------------------------------------------------\n",
      "                      Epoch time : 0.85 seconds         \n",
      "**************************************************************************\n",
      "                               At epoch : 1                        \n",
      "--------------------------------------------------------------------------\n",
      "Accuracy: 84.0%  |  Precision: 86.64%  |  Recall: 84.0%  |  F1: 83.53%\n",
      "Confusion Matrix: \n",
      "         pred: 0  pred: 1  pred: 2\n",
      "true: 0       13        0        7\n",
      "true: 1        1        8        0\n",
      "true: 2        0        0       21\n",
      "--------------------------------------------------------------------------\n",
      "                      Epoch time : 254.11 seconds         \n",
      "**************************************************************************\n",
      "                               At epoch : 2                        \n",
      "--------------------------------------------------------------------------\n",
      "Accuracy: 86.0%  |  Precision: 88.0%  |  Recall: 86.0%  |  F1: 85.69%\n",
      "Confusion Matrix: \n",
      "         pred: 0  pred: 1  pred: 2\n",
      "true: 0       14        0        6\n",
      "true: 1        1        8        0\n",
      "true: 2        0        0       21\n",
      "--------------------------------------------------------------------------\n",
      "                      Epoch time : 241.78 seconds         \n",
      "**************************************************************************\n",
      "                               At epoch : 3                        \n",
      "--------------------------------------------------------------------------\n",
      "Accuracy: 88.0%  |  Precision: 89.42%  |  Recall: 88.0%  |  F1: 87.81%\n",
      "Confusion Matrix: \n",
      "         pred: 0  pred: 1  pred: 2\n",
      "true: 0       15        0        5\n",
      "true: 1        1        8        0\n",
      "true: 2        0        0       21\n",
      "--------------------------------------------------------------------------\n",
      "                      Epoch time : 234.64 seconds         \n",
      "**************************************************************************\n",
      "                               At epoch : 4                        \n",
      "--------------------------------------------------------------------------\n",
      "Accuracy: 94.0%  |  Precision: 94.24%  |  Recall: 94.0%  |  F1: 93.96%\n",
      "Confusion Matrix: \n",
      "         pred: 0  pred: 1  pred: 2\n",
      "true: 0       18        0        2\n",
      "true: 1        1        8        0\n",
      "true: 2        0        0       21\n",
      "--------------------------------------------------------------------------\n",
      "                      Epoch time : 236.71 seconds         \n",
      "**************************************************************************\n"
     ]
    }
   ],
   "source": [
    "n_epochs = 5\n",
    "model.fit(data_tuple, alpha = 0.1, n_epochs = n_epochs, display = True)\n",
    "#model.quick_fit(data_tuple, alpha = 0.1, n_epochs = n_epochs, display = True)"
   ]
  },
  {
   "cell_type": "code",
   "execution_count": null,
   "metadata": {},
   "outputs": [],
   "source": [
    "model.print_plot_keys()"
   ]
  },
  {
   "cell_type": "code",
   "execution_count": null,
   "metadata": {},
   "outputs": [],
   "source": [
    "model.plot_dict['Metrics']['Weighted']['All']"
   ]
  },
  {
   "cell_type": "code",
   "execution_count": null,
   "metadata": {},
   "outputs": [],
   "source": [
    "model.save_recordings(f\"epochs_{n_epochs}_weight_{weight_seed}-split_{test_size}_{split_seed}\")"
   ]
  },
  {
   "cell_type": "code",
   "execution_count": null,
   "metadata": {},
   "outputs": [],
   "source": [
    "# for weight_seed in range(42):\n",
    "#     for split_seed in range(42):\n",
    "#         n_epochs = 4\n",
    "#         test_size = 15\n",
    "#         model = q_model(n_circuits = 3, rng_seed = weight_seed)\n",
    "#         X, Y = np.array(load_iris().data), np.array(load_iris().target)\n",
    "#         data_tuple = model.scale_and_split(X, Y, test_size = test_size/100, random_state = split_seed)\n",
    "#         model.fit(data_tuple, alpha = 0.1, n_epochs = n_epochs, display = False)\n",
    "#         #model.quick_fit(data_tuple, alpha = 0.1, n_epochs = n_epochs, display = True)\n",
    "#         model.save_recordings(f\"epochs_{n_epochs}_weight_{weight_seed}-split_{test_size}_{split_seed}\")\n",
    "#         print(f\"epochs_{n_epochs}_weight_{weight_seed}-split_{test_size}_{split_seed}\")"
   ]
  }
 ],
 "metadata": {
  "kernelspec": {
   "display_name": "Python 3.9.7 64-bit",
   "language": "python",
   "name": "python3"
  },
  "language_info": {
   "codemirror_mode": {
    "name": "ipython",
    "version": 3
   },
   "file_extension": ".py",
   "mimetype": "text/x-python",
   "name": "python",
   "nbconvert_exporter": "python",
   "pygments_lexer": "ipython3",
   "version": "3.9.7"
  },
  "orig_nbformat": 4,
  "vscode": {
   "interpreter": {
    "hash": "eb6f5940a46bd00438eae5c24488e2af2ab436c7425df8fd8b6c9492d4c7c6bd"
   }
  }
 },
 "nbformat": 4,
 "nbformat_minor": 2
}
